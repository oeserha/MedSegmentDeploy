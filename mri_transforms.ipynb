{
 "cells": [
  {
   "cell_type": "markdown",
   "metadata": {},
   "source": [
    "# Testing Auto-Transforms"
   ]
  },
  {
   "cell_type": "markdown",
   "metadata": {},
   "source": [
    "### Old"
   ]
  },
  {
   "cell_type": "code",
   "execution_count": null,
   "metadata": {},
   "outputs": [],
   "source": [
    "from PIL import Image\n",
    "import numpy as np\n",
    "import os\n",
    "import cv2\n",
    "import matplotlib.pyplot as plt\n",
    "import pandas as pd\n",
    "\n",
    "import torch\n",
    "from torchvision import transforms\n",
    "from model import U2NETP"
   ]
  },
  {
   "cell_type": "code",
   "execution_count": 5,
   "metadata": {},
   "outputs": [],
   "source": [
    "# Single image paths-MRI\n",
    "ACRIN_207837_MRI_path = \"/Users/haleighoeser/Documents/MRIs/Originals/ACRIN 6698_207837/MRI PNGs/Brightness lvl5/png_00160.png\"\n",
    "ACRIN_277831_MRI_path = '/Users/haleighoeser/Documents/MRIs/Originals/ACRIN 6698_277831/MRI PNGs/Brightness level 6/png_00240.png'\n",
    "Duke_62_MRI_path = '/Users/haleighoeser/Documents/MRIs/Originals/Duke_062/MRI PNGs/Brightness level 1/png_00246.png'\n",
    "Duke_77_MRI_path = '/Users/haleighoeser/Documents/MRIs/Originals/Duke_077/MRI PNGs/Brightness level 1/png_00261.png'\n",
    "\n",
    "# Single image paths-Segmentations\n",
    "ACRIN_207837_Seg_path = '/Users/haleighoeser/Documents/MRIs/Originals/ACRIN 6698_207837/Seg PNGs/segpng_00160.png'\n",
    "ACRIN_277831_Seg_path = '/Users/haleighoeser/Documents/MRIs/Originals/ACRIN 6698_277831/Seg PNGs/segpng_00240.png'\n",
    "Duke_62_Seg_path = '/Users/haleighoeser/Documents/MRIs/Originals/Duke_062/Seg PNGs/segpng_00246.png'\n",
    "Duke_77_Seg_path = '/Users/haleighoeser/Documents/MRIs/Originals/Duke_077/Seg PNGs/segpng_00261.png'"
   ]
  },
  {
   "cell_type": "code",
   "execution_count": 5,
   "metadata": {},
   "outputs": [],
   "source": [
    "mri_207 = Image.open(ACRIN_207837_MRI_path)\n",
    "mri_277 = Image.open(ACRIN_277831_MRI_path)\n",
    "mri_62 = Image.open(Duke_62_MRI_path)\n",
    "mri_77 = Image.open(Duke_77_MRI_path)\n",
    "\n",
    "mri_207_arr = np.array(mri_207)\n",
    "mri_277_arr = np.array(mri_277)\n",
    "mri_62_arr = np.array(mri_62)\n",
    "mri_77_arr = np.array(mri_77)\n",
    "\n",
    "seg_207 = Image.open(ACRIN_207837_Seg_path)\n",
    "seg_277 = Image.open(ACRIN_277831_Seg_path)\n",
    "seg_62 = Image.open(Duke_62_Seg_path)\n",
    "seg_77 = Image.open(Duke_77_Seg_path)\n",
    "\n",
    "seg_207_arr = np.array(seg_207)\n",
    "seg_277_arr = np.array(seg_277)\n",
    "seg_62_arr = np.array(seg_62)\n",
    "seg_77_arr = np.array(seg_77)"
   ]
  },
  {
   "cell_type": "markdown",
   "metadata": {},
   "source": [
    "##### Size Transform"
   ]
  },
  {
   "cell_type": "code",
   "execution_count": null,
   "metadata": {},
   "outputs": [],
   "source": [
    "a207_MRI = Image.open(ACRIN_207837_MRI_path)\n",
    "a207_M_array = np.array(a207_MRI)\n",
    "h, w = a207_M_array.shape"
   ]
  },
  {
   "cell_type": "code",
   "execution_count": null,
   "metadata": {},
   "outputs": [],
   "source": [
    "def resize_image(image_path, new_width, new_height, output_path):\n",
    "    img = Image.open(image_path)\n",
    "    resized_img = img.resize((new_width, new_height), Image.LANCZOS)\n",
    "    resized_img.save(output_path)\n",
    "    \n",
    "# traverse folders\n",
    "output_path = \"/Users/haleighoeser/Documents/MRIs/Resized\"\n",
    "input_path = \"/Users/haleighoeser/Documents/MRIs/Originals\"\n",
    "mris = os.listdir(input_path)\n",
    "for p in mris:\n",
    "    b_path = f\"{input_path}/{p}/MRI PNGs\"\n",
    "    b_levels = os.listdir(b_path).remove('.DS_Store')\n",
    "    for b in b_levels:\n",
    "        pngs = os.listdir(f\"{b_path}/{b}\")\n",
    "        for i in pngs:\n",
    "            image_path = f\"{b_path}/{b}/{i}\"\n",
    "            resize_image(image_path, 320, 320, f\"{output_path}/{p}/MRI PNGs/{b}/{i}\")"
   ]
  },
  {
   "cell_type": "markdown",
   "metadata": {},
   "source": [
    "##### Orientation Transform"
   ]
  },
  {
   "cell_type": "code",
   "execution_count": 31,
   "metadata": {},
   "outputs": [],
   "source": [
    "def get_mask(image):\n",
    "    image = cv2.cvtColor(image, cv2.COLOR_BGR2RGB)\n",
    "    original_size = image.shape[:2]     \n",
    "\n",
    "    # Load U²-Net model\n",
    "    model = U2NETP(3, 1)  # Make sure input and output channels match\n",
    "    model.load_state_dict(torch.load(\"saved_models/u2netp.pth\", map_location=torch.device(\"cpu\")))\n",
    "    model.eval()\n",
    "\n",
    "    # Resize to match U²-Net input size (assumes 320x320, adjust if needed)\n",
    "    image_resized = cv2.resize(image, (320, 320))\n",
    "\n",
    "    # Normalize and convert to tensor\n",
    "    transform = transforms.Compose([\n",
    "        transforms.ToTensor(),  # Convert to tensor\n",
    "        transforms.Normalize(mean=[0.485, 0.456, 0.406], std=[0.229, 0.224, 0.225])  # Normalize\n",
    "    ])\n",
    "\n",
    "    image_tensor = transform(image_resized).unsqueeze(0)  # Add batch dimension\n",
    "\n",
    "    # Run the image through U²-Net\n",
    "    with torch.no_grad():\n",
    "        output = model(image_tensor)  # Get model output\n",
    "\n",
    "    mask = output[0][0][0].cpu().numpy()  # Convert tensor to numpy\n",
    "    mask = (mask - mask.min()) / (mask.max() - mask.min())  # Normalize to [0,1]\n",
    "    mask = (mask * 255).astype(np.uint8)  # Convert to 8-bit format\n",
    "    # Convert to binary mask\n",
    "    _, mask_binary = cv2.threshold(mask, 128, 255, cv2.THRESH_BINARY)\n",
    "\n",
    "    return mask_binary"
   ]
  },
  {
   "cell_type": "code",
   "execution_count": 82,
   "metadata": {},
   "outputs": [],
   "source": [
    "good_image = cv2.imread(ACRIN_277831_MRI_path)\n",
    "bad_image = cv2.imread(Duke_62_MRI_path)\n",
    "other_image = cv2.imread(Duke_77_MRI_path)\n",
    "compare = cv2.imread(ACRIN_207837_MRI_path)"
   ]
  },
  {
   "cell_type": "code",
   "execution_count": 83,
   "metadata": {},
   "outputs": [
    {
     "name": "stderr",
     "output_type": "stream",
     "text": [
      "/var/folders/fh/3p72kl9960qd02pfdjfnkbh40000gn/T/ipykernel_71254/2795331452.py:7: FutureWarning: You are using `torch.load` with `weights_only=False` (the current default value), which uses the default pickle module implicitly. It is possible to construct malicious pickle data which will execute arbitrary code during unpickling (See https://github.com/pytorch/pytorch/blob/main/SECURITY.md#untrusted-models for more details). In a future release, the default value for `weights_only` will be flipped to `True`. This limits the functions that could be executed during unpickling. Arbitrary objects will no longer be allowed to be loaded via this mode unless they are explicitly allowlisted by the user via `torch.serialization.add_safe_globals`. We recommend you start setting `weights_only=True` for any use case where you don't have full control of the loaded file. Please open an issue on GitHub for any issues related to this experimental feature.\n",
      "  model.load_state_dict(torch.load(\"saved_models/u2netp.pth\", map_location=torch.device(\"cpu\")))\n",
      "/Users/haleighoeser/Documents/School/Grad/Semester_4/CS673/U-2-Net/model/u2net.py:23: UserWarning: `nn.functional.upsample` is deprecated. Use `nn.functional.interpolate` instead.\n",
      "  src = F.upsample(src,size=tar.shape[2:],mode='bilinear')\n"
     ]
    }
   ],
   "source": [
    "good_mask = get_mask(good_image)\n",
    "bad_mask = get_mask(bad_image)\n",
    "other_mask = get_mask(other_image)\n",
    "compare_mask = get_mask(compare)"
   ]
  },
  {
   "cell_type": "code",
   "execution_count": 84,
   "metadata": {},
   "outputs": [],
   "source": [
    "midpoint = len(compare_mask) // 2\n",
    "c_mask = compare_mask.copy()\n",
    "c_mask[midpoint:] = 0\n",
    "c_mask_bot = np.flipud(c_mask)"
   ]
  },
  {
   "cell_type": "code",
   "execution_count": 85,
   "metadata": {},
   "outputs": [],
   "source": [
    "good_mask_top = good_mask.copy()\n",
    "good_mask_bot = good_mask.copy()\n",
    "bad_mask_top = bad_mask.copy()\n",
    "bad_mask_bot = bad_mask.copy()\n",
    "other_mask_top = other_mask.copy()\n",
    "other_mask_bot = other_mask.copy()\n",
    "\n",
    "good_mask_top[midpoint:] = 0\n",
    "good_mask_bot[:midpoint] = 0\n",
    "bad_mask_top[midpoint:] = 0\n",
    "bad_mask_bot[:midpoint] = 0\n",
    "other_mask_top[midpoint:] = 0\n",
    "other_mask_bot[:midpoint] = 0"
   ]
  },
  {
   "cell_type": "code",
   "execution_count": 86,
   "metadata": {},
   "outputs": [],
   "source": [
    "g_top_acc = (good_mask_top == c_mask).astype(float).mean()\n",
    "g_bot_acc = (good_mask_bot == c_mask_bot).astype(float).mean()\n",
    "b_top_acc = (bad_mask_top == c_mask).astype(float).mean()\n",
    "b_bot_acc = (bad_mask_bot == c_mask_bot).astype(float).mean()\n",
    "o_top_acc = (other_mask_top == c_mask).astype(float).mean()\n",
    "o_bot_acc = (other_mask_bot == c_mask_bot).astype(float).mean()"
   ]
  },
  {
   "cell_type": "code",
   "execution_count": 87,
   "metadata": {},
   "outputs": [
    {
     "name": "stdout",
     "output_type": "stream",
     "text": [
      "GOOD: top=0.8471875 bot=0.720595703125 | BAD: top=0.871875 bot=0.8683984375 | OTHER: top=0.866875 bot=0.892109375\n"
     ]
    }
   ],
   "source": [
    "print(f\"GOOD: top={g_top_acc} bot={g_bot_acc} | BAD: top={b_top_acc} bot={b_bot_acc} | OTHER: top={o_top_acc} bot={o_bot_acc}\")"
   ]
  },
  {
   "cell_type": "code",
   "execution_count": 43,
   "metadata": {},
   "outputs": [
    {
     "data": {
      "text/plain": [
       "<matplotlib.image.AxesImage at 0x15044f310>"
      ]
     },
     "execution_count": 43,
     "metadata": {},
     "output_type": "execute_result"
    },
    {
     "data": {
      "image/png": "[encoded data removed]",
      "text/plain": [
       "<Figure size 640x480 with 1 Axes>"
      ]
     },
     "metadata": {},
     "output_type": "display_data"
    }
   ],
   "source": [
    "plt.imshow(good_mask_bot)"
   ]
  },
  {
   "cell_type": "code",
   "execution_count": 46,
   "metadata": {},
   "outputs": [
    {
     "data": {
      "text/plain": [
       "<matplotlib.image.AxesImage at 0x150502d90>"
      ]
     },
     "execution_count": 46,
     "metadata": {},
     "output_type": "execute_result"
    },
    {
     "data": {
      "image/png": "[encoded data removed]",
      "text/plain": [
       "<Figure size 640x480 with 1 Axes>"
      ]
     },
     "metadata": {},
     "output_type": "display_data"
    }
   ],
   "source": [
    "plt.imshow(edges)"
   ]
  },
  {
   "cell_type": "code",
   "execution_count": 19,
   "metadata": {},
   "outputs": [
    {
     "data": {
      "text/plain": [
       "<matplotlib.image.AxesImage at 0x3070606d0>"
      ]
     },
     "execution_count": 19,
     "metadata": {},
     "output_type": "execute_result"
    },
    {
     "data": {
      "image/png": "[encoded data removed]",
      "text/plain": [
       "<Figure size 640x480 with 1 Axes>"
      ]
     },
     "metadata": {},
     "output_type": "display_data"
    }
   ],
   "source": [
    "plt.imshow(c_mask)"
   ]
  },
  {
   "cell_type": "markdown",
   "metadata": {},
   "source": [
    "##### Renumbering Transform"
   ]
  },
  {
   "cell_type": "code",
   "execution_count": 49,
   "metadata": {},
   "outputs": [],
   "source": [
    "# Single image paths-MRI\n",
    "ACRIN_207837_MRI_path_1 = \"/Users/haleighoeser/Documents/MRIs/Originals/ACRIN 6698_207837/MRI PNGs/Brightness lvl5/png_00080.png\"\n",
    "ACRIN_277831_MRI_path_1 = '/Users/haleighoeser/Documents/MRIs/Originals/ACRIN 6698_277831/MRI PNGs/Brightness level 6/png_00120.png'\n",
    "Duke_62_MRI_path_1 = '/Users/haleighoeser/Documents/MRIs/Originals/Duke_062/MRI PNGs/Brightness level 1/png_00123.png'\n",
    "Duke_77_MRI_path_1 = '/Users/haleighoeser/Documents/MRIs/Originals/Duke_077/MRI PNGs/Brightness level 1/png_00130.png'\n",
    "\n",
    "ACRIN_207837_MRI_path_2 = \"/Users/haleighoeser/Documents/MRIs/Originals/ACRIN 6698_207837/MRI PNGs/Brightness lvl5/png_00240.png\"\n",
    "ACRIN_277831_MRI_path_2 = '/Users/haleighoeser/Documents/MRIs/Originals/ACRIN 6698_277831/MRI PNGs/Brightness level 6/png_00360.png'\n",
    "Duke_62_MRI_path_2 = '/Users/haleighoeser/Documents/MRIs/Originals/Duke_062/MRI PNGs/Brightness level 1/png_00369.png'\n",
    "Duke_77_MRI_path_2 = '/Users/haleighoeser/Documents/MRIs/Originals/Duke_077/MRI PNGs/Brightness level 1/png_00392.png'\n",
    "\n",
    "# Single image paths-Segmentations\n",
    "ACRIN_207837_Seg_path_1 = '/Users/haleighoeser/Documents/MRIs/Originals/ACRIN 6698_207837/Seg PNGs/segpng_00080.png'\n",
    "ACRIN_277831_Seg_path_1 = '/Users/haleighoeser/Documents/MRIs/Originals/ACRIN 6698_277831/Seg PNGs/segpng_00120.png'\n",
    "Duke_62_Seg_path_1 = '/Users/haleighoeser/Documents/MRIs/Originals/Duke_062/Seg PNGs/segpng_00123.png'\n",
    "Duke_77_Seg_path_1 = '/Users/haleighoeser/Documents/MRIs/Originals/Duke_077/Seg PNGs/segpng_00130.png'\n",
    "\n",
    "ACRIN_207837_Seg_path_2 = '/Users/haleighoeser/Documents/MRIs/Originals/ACRIN 6698_207837/Seg PNGs/segpng_00240.png'\n",
    "ACRIN_277831_Seg_path_2 = '/Users/haleighoeser/Documents/MRIs/Originals/ACRIN 6698_277831/Seg PNGs/segpng_00360.png'\n",
    "Duke_62_Seg_path_2 = '/Users/haleighoeser/Documents/MRIs/Originals/Duke_062/Seg PNGs/segpng_00369.png'\n",
    "Duke_77_Seg_path_2 = '/Users/haleighoeser/Documents/MRIs/Originals/Duke_077/Seg PNGs/segpng_00392.png'"
   ]
  },
  {
   "cell_type": "code",
   "execution_count": 50,
   "metadata": {},
   "outputs": [],
   "source": [
    "mri_207_1 = Image.open(ACRIN_207837_MRI_path_1)\n",
    "mri_277_1 = Image.open(ACRIN_277831_MRI_path_1)\n",
    "mri_62_1 = Image.open(Duke_62_MRI_path_1)\n",
    "mri_77_1 = Image.open(Duke_77_MRI_path_1)\n",
    "\n",
    "mri_207_2 = Image.open(ACRIN_207837_MRI_path_2)\n",
    "mri_277_2 = Image.open(ACRIN_277831_MRI_path_2)\n",
    "mri_62_2 = Image.open(Duke_62_MRI_path_2)\n",
    "mri_77_2 = Image.open(Duke_77_MRI_path_2)\n",
    "\n",
    "mri_207_arr_1 = np.array(mri_207_1)\n",
    "mri_277_arr_1 = np.array(mri_277_1)\n",
    "mri_62_arr_1 = np.array(mri_62_1)\n",
    "mri_77_arr_1 = np.array(mri_77_1)\n",
    "\n",
    "mri_207_arr_2 = np.array(mri_207_2)\n",
    "mri_277_arr_2 = np.array(mri_277_2)\n",
    "mri_62_arr_2 = np.array(mri_62_2)\n",
    "mri_77_arr_2 = np.array(mri_77_2)\n",
    "\n",
    "seg_207_1 = Image.open(ACRIN_207837_Seg_path_1)\n",
    "seg_277_1 = Image.open(ACRIN_277831_Seg_path_1)\n",
    "seg_62_1 = Image.open(Duke_62_Seg_path_1)\n",
    "seg_77_1 = Image.open(Duke_77_Seg_path_1)\n",
    "\n",
    "seg_207_2 = Image.open(ACRIN_207837_Seg_path_2)\n",
    "seg_277_2 = Image.open(ACRIN_277831_Seg_path_2)\n",
    "seg_62_2 = Image.open(Duke_62_Seg_path_2)\n",
    "seg_77_2 = Image.open(Duke_77_Seg_path_2)\n",
    "\n",
    "seg_207_arr_1 = np.array(seg_207_1)\n",
    "seg_277_arr_1 = np.array(seg_277_1)\n",
    "seg_62_arr_1 = np.array(seg_62_1)\n",
    "seg_77_arr_1 = np.array(seg_77_1)\n",
    "\n",
    "seg_207_arr_2 = np.array(seg_207_2)\n",
    "seg_277_arr_2 = np.array(seg_277_2)\n",
    "seg_62_arr_2 = np.array(seg_62_2)\n",
    "seg_77_arr_2 = np.array(seg_77_2)"
   ]
  },
  {
   "cell_type": "code",
   "execution_count": 67,
   "metadata": {},
   "outputs": [
    {
     "name": "stderr",
     "output_type": "stream",
     "text": [
      "/var/folders/fh/3p72kl9960qd02pfdjfnkbh40000gn/T/ipykernel_39153/2795331452.py:7: FutureWarning: You are using `torch.load` with `weights_only=False` (the current default value), which uses the default pickle module implicitly. It is possible to construct malicious pickle data which will execute arbitrary code during unpickling (See https://github.com/pytorch/pytorch/blob/main/SECURITY.md#untrusted-models for more details). In a future release, the default value for `weights_only` will be flipped to `True`. This limits the functions that could be executed during unpickling. Arbitrary objects will no longer be allowed to be loaded via this mode unless they are explicitly allowlisted by the user via `torch.serialization.add_safe_globals`. We recommend you start setting `weights_only=True` for any use case where you don't have full control of the loaded file. Please open an issue on GitHub for any issues related to this experimental feature.\n",
      "  model.load_state_dict(torch.load(\"saved_models/u2netp.pth\", map_location=torch.device(\"cpu\")))\n",
      "/Users/haleighoeser/Documents/School/Grad/Semester_4/CS673/U-2-Net/model/u2net.py:23: UserWarning: `nn.functional.upsample` is deprecated. Use `nn.functional.interpolate` instead.\n",
      "  src = F.upsample(src,size=tar.shape[2:],mode='bilinear')\n"
     ]
    }
   ],
   "source": [
    "good_image_1 = cv2.imread(ACRIN_277831_MRI_path_1)\n",
    "bad_image_1 = cv2.imread(Duke_77_MRI_path_1)\n",
    "bad_image_1 = cv2.rotate(bad_image_1, cv2.ROTATE_180)\n",
    "compare_1 = cv2.imread(ACRIN_207837_MRI_path_1)\n",
    "\n",
    "good_seg_1 = cv2.imread(ACRIN_277831_Seg_path_1)\n",
    "bad_seg_1 = cv2.imread(Duke_77_Seg_path_1)\n",
    "compare_seg_1 = cv2.imread(ACRIN_207837_Seg_path_1)\n",
    "\n",
    "good_image_2 = cv2.imread(ACRIN_277831_MRI_path_2)\n",
    "bad_image_2 = cv2.imread(Duke_77_MRI_path_2)\n",
    "bad_image_2 = cv2.rotate(bad_image_2, cv2.ROTATE_180)\n",
    "compare_2 = cv2.imread(ACRIN_207837_MRI_path_2)\n",
    "\n",
    "good_seg_2 = cv2.imread(ACRIN_277831_Seg_path_2)\n",
    "bad_seg_2 = cv2.imread(Duke_77_Seg_path_2)\n",
    "compare_seg_2 = cv2.imread(ACRIN_207837_Seg_path_2)\n",
    "\n",
    "good_mask_1 = get_mask(good_image_1)\n",
    "bad_mask_1 = get_mask(bad_image_1)\n",
    "compare_mask_1 = get_mask(compare_1)\n",
    "\n",
    "midpoint = len(compare_mask_1) // 2\n",
    "good_mask_1[midpoint:] = 0\n",
    "bad_mask_1[midpoint:] = 0\n",
    "compare_mask_1[midpoint:] = 0\n",
    "\n",
    "good_seg_mask_1 = get_mask(good_seg_1)\n",
    "bad_seg_mask_1 = get_mask(bad_seg_1)\n",
    "compare_seg_mask_1 = get_mask(compare_seg_1)\n",
    "\n",
    "good_mask_2 = get_mask(good_image_2)\n",
    "bad_mask_2 = get_mask(bad_image_2)\n",
    "compare_mask_2 = get_mask(compare_2)\n",
    "\n",
    "good_mask_2[midpoint:] = 0\n",
    "bad_mask_2[midpoint:] = 0\n",
    "compare_mask_2[midpoint:] = 0\n",
    "\n",
    "good_seg_mask_2 = get_mask(good_seg_2)\n",
    "bad_seg_mask_2 = get_mask(bad_seg_2)\n",
    "compare_seg_mask_2 = get_mask(compare_seg_2)"
   ]
  },
  {
   "cell_type": "code",
   "execution_count": 68,
   "metadata": {},
   "outputs": [],
   "source": [
    "g_acc_1 = (good_mask_1 == good_seg_mask_1).astype(float).mean()\n",
    "g_acc_2 = (good_mask_2 == good_seg_mask_2).astype(float).mean()\n",
    "g_acc_12 = (good_mask_1 == good_seg_mask_2).astype(float).mean()\n",
    "g_acc_21 = (good_mask_2 == good_seg_mask_1).astype(float).mean()\n",
    "\n",
    "b_acc_1 = (bad_mask_1 == bad_seg_mask_1).astype(float).mean()\n",
    "b_acc_2 = (bad_mask_2 == bad_seg_mask_2).astype(float).mean()\n",
    "b_acc_12 = (bad_mask_1 == bad_seg_mask_2).astype(float).mean()\n",
    "b_acc_21 = (bad_mask_2 == bad_seg_mask_1).astype(float).mean()\n",
    "\n",
    "c_acc_1 = (compare_mask_1 == compare_seg_mask_1).astype(float).mean()\n",
    "c_acc_2 = (compare_mask_2 == compare_seg_mask_2).astype(float).mean()\n",
    "c_acc_12 = (compare_mask_1 == compare_seg_mask_2).astype(float).mean()\n",
    "c_acc_21 = (compare_mask_2 == compare_seg_mask_1).astype(float).mean()"
   ]
  },
  {
   "cell_type": "code",
   "execution_count": 76,
   "metadata": {},
   "outputs": [
    {
     "name": "stdout",
     "output_type": "stream",
     "text": [
      "B1: 0.88314453125 | B2: 0.9080078125 | B1to2: 0.958896484375 | B2to1: 0.983505859375 | COMPARE: 1.7911523437499999 - 1.94240234375\n",
      "G1: 0.986865234375 | G2: 0.98796875 | G1to2: 0.947431640625 | G2to1: 0.94845703125 | COMPARE: 1.974833984375 - 1.8958886718749999\n",
      "C1: 0.855185546875 | C2: 0.919423828125 | C1to2: 0.88765625 | C2to1: 0.8166015625 | COMPARE: 1.774609375 - 1.7042578125\n"
     ]
    }
   ],
   "source": [
    "print(f\"B1: {g_acc_1} | B2: {g_acc_2} | B1to2: {g_acc_12} | B2to1: {g_acc_21} | COMPARE: {g_acc_1 + g_acc_2} - {g_acc_12 + g_acc_21}\")\n",
    "print(f\"G1: {b_acc_1} | G2: {b_acc_2} | G1to2: {b_acc_12} | G2to1: {b_acc_21} | COMPARE: {b_acc_1 + b_acc_2} - {b_acc_12 + b_acc_21}\")\n",
    "print(f\"C1: {c_acc_1} | C2: {c_acc_2} | C1to2: {c_acc_12} | C2to1: {c_acc_21} | COMPARE: {c_acc_1 + c_acc_2} - {c_acc_12 + c_acc_21}\")"
   ]
  },
  {
   "cell_type": "code",
   "execution_count": 98,
   "metadata": {},
   "outputs": [
    {
     "name": "stderr",
     "output_type": "stream",
     "text": [
      "/var/folders/fh/3p72kl9960qd02pfdjfnkbh40000gn/T/ipykernel_39153/2795331452.py:7: FutureWarning: You are using `torch.load` with `weights_only=False` (the current default value), which uses the default pickle module implicitly. It is possible to construct malicious pickle data which will execute arbitrary code during unpickling (See https://github.com/pytorch/pytorch/blob/main/SECURITY.md#untrusted-models for more details). In a future release, the default value for `weights_only` will be flipped to `True`. This limits the functions that could be executed during unpickling. Arbitrary objects will no longer be allowed to be loaded via this mode unless they are explicitly allowlisted by the user via `torch.serialization.add_safe_globals`. We recommend you start setting `weights_only=True` for any use case where you don't have full control of the loaded file. Please open an issue on GitHub for any issues related to this experimental feature.\n",
      "  model.load_state_dict(torch.load(\"saved_models/u2netp.pth\", map_location=torch.device(\"cpu\")))\n"
     ]
    }
   ],
   "source": [
    "path = \"/Users/haleighoeser/Documents/MRIs/Originals/Duke_062\"\n",
    "r = check_renumbering(path, True)"
   ]
  },
  {
   "cell_type": "code",
   "execution_count": 99,
   "metadata": {},
   "outputs": [
    {
     "data": {
      "text/plain": [
       "False"
      ]
     },
     "execution_count": 99,
     "metadata": {},
     "output_type": "execute_result"
    }
   ],
   "source": [
    "r"
   ]
  },
  {
   "cell_type": "markdown",
   "metadata": {},
   "source": [
    "### Actual Code to use"
   ]
  },
  {
   "cell_type": "code",
   "execution_count": 1,
   "metadata": {},
   "outputs": [],
   "source": [
    "from PIL import Image\n",
    "import numpy as np\n",
    "import os\n",
    "import cv2\n",
    "import matplotlib.pyplot as plt\n",
    "import pandas as pd\n",
    "\n",
    "\n",
    "import torch\n",
    "from torchvision import transforms\n",
    "from model import U2NETP"
   ]
  },
  {
   "cell_type": "code",
   "execution_count": 2,
   "metadata": {},
   "outputs": [],
   "source": [
    "def resize_image(image_path, new_width, new_height, output_path):\n",
    "    img = Image.open(image_path)\n",
    "    resized_img = img.resize((new_width, new_height), Image.LANCZOS)\n",
    "    resized_img.save(output_path)"
   ]
  },
  {
   "cell_type": "code",
   "execution_count": 3,
   "metadata": {},
   "outputs": [],
   "source": [
    "def get_mask(image):\n",
    "    image = cv2.cvtColor(image, cv2.COLOR_BGR2RGB)\n",
    "    original_size = image.shape[:2]     \n",
    "\n",
    "    # Load U²-Net model\n",
    "    model = U2NETP(3, 1)  # Make sure input and output channels match\n",
    "    model.load_state_dict(torch.load(\"saved_models/u2netp.pth\", map_location=torch.device(\"cpu\")))\n",
    "    model.eval()\n",
    "\n",
    "    # Resize to match U²-Net input size (assumes 320x320, adjust if needed)\n",
    "    image_resized = cv2.resize(image, (320, 320))\n",
    "\n",
    "    # Normalize and convert to tensor\n",
    "    transform = transforms.Compose([\n",
    "        transforms.ToTensor(),  # Convert to tensor\n",
    "        transforms.Normalize(mean=[0.485, 0.456, 0.406], std=[0.229, 0.224, 0.225])  # Normalize\n",
    "    ])\n",
    "\n",
    "    image_tensor = transform(image_resized).unsqueeze(0)  # Add batch dimension\n",
    "\n",
    "    # Run the image through U²-Net\n",
    "    with torch.no_grad():\n",
    "        output = model(image_tensor)  # Get model output\n",
    "\n",
    "    mask = output[0][0][0].cpu().numpy()  # Convert tensor to numpy\n",
    "    mask = (mask - mask.min()) / (mask.max() - mask.min())  # Normalize to [0,1]\n",
    "    mask = (mask * 255).astype(np.uint8)  # Convert to 8-bit format\n",
    "    # Convert to binary mask\n",
    "    _, mask_binary = cv2.threshold(mask, 128, 255, cv2.THRESH_BINARY)\n",
    "\n",
    "    return mask_binary"
   ]
  },
  {
   "cell_type": "code",
   "execution_count": 4,
   "metadata": {},
   "outputs": [],
   "source": [
    "def check_renumbering(patient_path, reorientation):\n",
    "    segs = os.listdir(f\"{patient_path}/Seg PNGs\")\n",
    "    if segs.__contains__('.DS_Store'):\n",
    "        segs.remove('.DS_Store')\n",
    "    num_slices = len(segs)\n",
    "    first_quarter = num_slices // 4\n",
    "    last_quarter = num_slices - first_quarter\n",
    "    first_quarter = str(first_quarter).zfill(5)\n",
    "    last_quarter = str(last_quarter).zfill(5)\n",
    "\n",
    "    bright_levels = os.listdir(f\"{patient_path}/MRI PNGs\")\n",
    "    if bright_levels.__contains__('.DS_Store'):\n",
    "        bright_levels.remove('.DS_Store')\n",
    "    bright_level = bright_levels[0]\n",
    "    \n",
    "    image_path_first = f\"{patient_path}/MRI PNGs/{bright_level}/png_{first_quarter}.png\"\n",
    "    image_path_second = f\"{patient_path}/MRI PNGs/{bright_level}/png_{last_quarter}.png\"\n",
    "    seg_path_first = f'{patient_path}/Seg PNGs/segpng_{first_quarter}.png'\n",
    "    seg_path_second = f'{patient_path}/Seg PNGs/segpng_{last_quarter}.png'\n",
    "\n",
    "    image_first = cv2.imread(image_path_first)\n",
    "    image_second = cv2.imread(image_path_second)\n",
    "    seg_first = cv2.imread(seg_path_first)\n",
    "    seg_second = cv2.imread(seg_path_second)\n",
    "\n",
    "    if reorientation:\n",
    "        image_first = cv2.rotate(image_first, cv2.ROTATE_180)\n",
    "        image_second = cv2.rotate(image_second, cv2.ROTATE_180)\n",
    "        seg_first = cv2.rotate(seg_first, cv2.ROTATE_180)\n",
    "        seg_second = cv2.rotate(seg_second, cv2.ROTATE_180)\n",
    "\n",
    "    image_mask_first = get_mask(image_first)\n",
    "    image_mask_second = get_mask(image_second)\n",
    "    seg_mask_first = get_mask(seg_first)\n",
    "    seg_mask_second = get_mask(seg_second)\n",
    "\n",
    "    midpoint = len(image_mask_first) // 2\n",
    "    image_mask_first[midpoint:] = 0\n",
    "    image_mask_second[midpoint:] = 0\n",
    "    seg_mask_first[midpoint:] = 0\n",
    "    seg_mask_second[midpoint:] = 0\n",
    "\n",
    "    acc_1 = (image_mask_first == seg_mask_first).astype(float).mean()\n",
    "    acc_2 = (image_mask_second == seg_mask_second).astype(float).mean()\n",
    "    acc_12 = (image_mask_first == seg_mask_second).astype(float).mean()\n",
    "    acc_21 = (image_mask_second == seg_mask_first).astype(float).mean()\n",
    "\n",
    "    correct = acc_1 + acc_2\n",
    "    incorrect = acc_12 + acc_21\n",
    "\n",
    "    check = correct - incorrect\n",
    "\n",
    "    if check < 0:\n",
    "        return True\n",
    "    else:\n",
    "        return False\n",
    "    "
   ]
  },
  {
   "cell_type": "code",
   "execution_count": 5,
   "metadata": {},
   "outputs": [],
   "source": [
    "def check_size(image_path):\n",
    "    image = cv2.imread(image_path)\n",
    "    h, w, c = image.shape\n",
    "    if h != 320 or w != 320:\n",
    "        return True\n",
    "    else:\n",
    "        return False"
   ]
  },
  {
   "cell_type": "code",
   "execution_count": 6,
   "metadata": {},
   "outputs": [],
   "source": [
    "def check_reorientation(image_path, compare_path):\n",
    "    image = cv2.imread(image_path)\n",
    "    compare = cv2.imread(compare_path)\n",
    "\n",
    "    image_mask = get_mask(image)\n",
    "    compare_mask = get_mask(compare)\n",
    "\n",
    "    midpoint = len(compare_mask) // 2\n",
    "    c_mask = compare_mask.copy()\n",
    "    c_mask[midpoint:] = 0\n",
    "    c_mask_bot = np.flipud(c_mask)\n",
    "\n",
    "    mask_top = image_mask.copy()\n",
    "    mask_bot = image_mask.copy()\n",
    "\n",
    "    mask_top[midpoint:] = 0\n",
    "    mask_bot[:midpoint] = 0\n",
    "\n",
    "    top_acc = (mask_top == c_mask).astype(float).mean()\n",
    "    bot_acc = (mask_bot == c_mask_bot).astype(float).mean()\n",
    "\n",
    "    if top_acc > bot_acc:\n",
    "        return False\n",
    "    else:\n",
    "        return True\n",
    "    "
   ]
  },
  {
   "cell_type": "code",
   "execution_count": 9,
   "metadata": {},
   "outputs": [
    {
     "data": {
      "text/html": [
       "<div>\n",
       "<style scoped>\n",
       "    .dataframe tbody tr th:only-of-type {\n",
       "        vertical-align: middle;\n",
       "    }\n",
       "\n",
       "    .dataframe tbody tr th {\n",
       "        vertical-align: top;\n",
       "    }\n",
       "\n",
       "    .dataframe thead th {\n",
       "        text-align: right;\n",
       "    }\n",
       "</style>\n",
       "<table border=\"1\" class=\"dataframe\">\n",
       "  <thead>\n",
       "    <tr style=\"text-align: right;\">\n",
       "      <th></th>\n",
       "      <th>Patient ID</th>\n",
       "      <th>Renumber</th>\n",
       "      <th>Reorientation</th>\n",
       "    </tr>\n",
       "  </thead>\n",
       "  <tbody>\n",
       "    <tr>\n",
       "      <th>0</th>\n",
       "      <td>000129_2022-08-12</td>\n",
       "      <td>False</td>\n",
       "      <td>False</td>\n",
       "    </tr>\n",
       "    <tr>\n",
       "      <th>1</th>\n",
       "      <td>000133_2022-09-09</td>\n",
       "      <td>False</td>\n",
       "      <td>False</td>\n",
       "    </tr>\n",
       "    <tr>\n",
       "      <th>2</th>\n",
       "      <td>000133_2022-10-05_vol133</td>\n",
       "      <td>False</td>\n",
       "      <td>False</td>\n",
       "    </tr>\n",
       "    <tr>\n",
       "      <th>3</th>\n",
       "      <td>000165_2022-08-19</td>\n",
       "      <td>False</td>\n",
       "      <td>False</td>\n",
       "    </tr>\n",
       "    <tr>\n",
       "      <th>4</th>\n",
       "      <td>000198_2023-04-10_ARFIpatient2</td>\n",
       "      <td>False</td>\n",
       "      <td>False</td>\n",
       "    </tr>\n",
       "    <tr>\n",
       "      <th>...</th>\n",
       "      <td>...</td>\n",
       "      <td>...</td>\n",
       "      <td>...</td>\n",
       "    </tr>\n",
       "    <tr>\n",
       "      <th>57</th>\n",
       "      <td>Rachel_Duke_003</td>\n",
       "      <td>True</td>\n",
       "      <td>True</td>\n",
       "    </tr>\n",
       "    <tr>\n",
       "      <th>58</th>\n",
       "      <td>Rachel_Duke_015</td>\n",
       "      <td>False</td>\n",
       "      <td>False</td>\n",
       "    </tr>\n",
       "    <tr>\n",
       "      <th>59</th>\n",
       "      <td>Rachel_Duke_023</td>\n",
       "      <td>True</td>\n",
       "      <td>False</td>\n",
       "    </tr>\n",
       "    <tr>\n",
       "      <th>60</th>\n",
       "      <td>Rachel_Duke_052</td>\n",
       "      <td>True</td>\n",
       "      <td>False</td>\n",
       "    </tr>\n",
       "    <tr>\n",
       "      <th>61</th>\n",
       "      <td>Rachel_Duke_054</td>\n",
       "      <td>False</td>\n",
       "      <td>True</td>\n",
       "    </tr>\n",
       "  </tbody>\n",
       "</table>\n",
       "<p>62 rows × 3 columns</p>\n",
       "</div>"
      ],
      "text/plain": [
       "                        Patient ID  Renumber  Reorientation\n",
       "0                000129_2022-08-12     False          False\n",
       "1                000133_2022-09-09     False          False\n",
       "2         000133_2022-10-05_vol133     False          False\n",
       "3                000165_2022-08-19     False          False\n",
       "4   000198_2023-04-10_ARFIpatient2     False          False\n",
       "..                             ...       ...            ...\n",
       "57                 Rachel_Duke_003      True           True\n",
       "58                 Rachel_Duke_015     False          False\n",
       "59                 Rachel_Duke_023      True          False\n",
       "60                 Rachel_Duke_052      True          False\n",
       "61                 Rachel_Duke_054     False           True\n",
       "\n",
       "[62 rows x 3 columns]"
      ]
     },
     "execution_count": 9,
     "metadata": {},
     "output_type": "execute_result"
    }
   ],
   "source": [
    "patients = pd.read_csv(\"/home/ra-ugrad/Documents/Haleigh/MedSegmentDeploy/preprocessing.csv\")\n",
    "map_bool = {\"Yes\": True, \"No\": False}\n",
    "patients['Reorientation'] = patients.Reorientation.map(map_bool)\n",
    "patients['Renumber'] = patients.Renumber.map(map_bool)\n",
    "patients"
   ]
  },
  {
   "cell_type": "code",
   "execution_count": 28,
   "metadata": {},
   "outputs": [
    {
     "name": "stdout",
     "output_type": "stream",
     "text": [
      "Duke_257\n"
     ]
    },
    {
     "name": "stderr",
     "output_type": "stream",
     "text": [
      "/usr/lib/python3/dist-packages/torch/nn/functional.py:3782: UserWarning: nn.functional.upsample is deprecated. Use nn.functional.interpolate instead.\n",
      "  warnings.warn(\"nn.functional.upsample is deprecated. Use nn.functional.interpolate instead.\")\n"
     ]
    },
    {
     "name": "stdout",
     "output_type": "stream",
     "text": [
      "000198_2023-04-10_ARFIpatient2\n",
      "Duke_106\n",
      "Duke_114\n",
      "ACRIN 6698_742356\n",
      "Rachel_Duke_052\n",
      "Duke_084\n",
      "Brianne_Duke_038\n",
      "Duke_077\n",
      "Duke_337\n",
      "Duke_129\n",
      "Duke_191\n",
      "000129_2022-08-12\n",
      "Rachel_Duke_015\n",
      "Duke_314\n",
      "Duke_328\n",
      "Duke_075\n",
      "Duke_281\n",
      "Duke_133\n",
      "ACRIN_564701\n",
      "ACRIN 6698_283070\n",
      "Duke_201\n",
      "Duke_172\n",
      "Rachel_Duke_023\n",
      "Estee_Duke_014\n",
      "Duke_068\n",
      "ACRIN 6698_277831\n",
      "Duke_102\n",
      "Duke_262\n",
      "Duke_147\n",
      "Duke_319\n",
      "Duke_223\n",
      "ACRIN 6998_649198\n",
      "000133_2022-09-09\n",
      "ACRIN 6698_253531\n",
      "Duke_079\n",
      "Rachel_Duke_003\n",
      "ACRIN 6698_378885\n",
      "Brianne_ACRIN 6698-414844\n",
      "ACRIN_6698_220471_everyone\n",
      "Duke_326\n",
      "Duke_099\n",
      "Duke_104\n",
      "000133_2022-10-05_vol133\n",
      "Nicole_Duke_047\n",
      "Estee_Duke_033\n",
      "Duke_218\n",
      "Duke_196\n",
      "Duke_189\n",
      "Rachel_Duke_054\n",
      "Duke_072\n",
      "Duke_371\n",
      "Duke_081\n",
      "Duke_094\n",
      "Duke_062\n",
      "ACRIN 6698_207837\n",
      "Duke_078\n",
      "000165_2022-08-19\n",
      "duke_patient001axdyn3\n",
      "Duke_112\n",
      "Duke_109\n",
      "ACRIN 6698_932998\n"
     ]
    }
   ],
   "source": [
    "# traverse folders & save results\n",
    "# output_path = \"/Users/haleighoeser/Documents/MRIs/Resized\"\n",
    "input_path = \"/home/ra-ugrad/Documents/Segmentations-Originals\"\n",
    "compare_path = '/home/ra-ugrad/Documents/Segmentations-Originals/ACRIN 6698_277831/MRI PNGs/Brightness level 6/png_00240.png'\n",
    "# compare_path = \"/Users/haleighoeser/Documents/MRIs/Originals/ACRIN 6698_207837/MRI PNGs/Brightness lvl5/png_00160.png\"\n",
    "results = dict()\n",
    "\n",
    "mris = os.listdir(input_path)\n",
    "if mris.__contains__('.DS_Store'):\n",
    "    mris.remove('.DS_Store')\n",
    "for p in mris:\n",
    "    print(p)\n",
    "    row_index = patients.index[patients['Patient ID'] == p][0]\n",
    "    b_path = f\"{input_path}/{p}/MRI PNGs\"\n",
    "    b_levels = os.listdir(b_path)\n",
    "    if b_levels.__contains__('.DS_Store'):\n",
    "        b_levels.remove('.DS_Store')\n",
    "    b_1 = b_levels[0]\n",
    "\n",
    "    # check for data preprocessing\n",
    "    pngs = os.listdir(f\"{b_path}/{b_1}\")\n",
    "    if pngs.__contains__('.DS_Store'):\n",
    "        pngs.remove('.DS_Store')\n",
    "\n",
    "    num_slices = len(pngs)\n",
    "    half = num_slices // 2\n",
    "    mri_50 = f\"{b_path}/{b_1}/png_{str(half).zfill(5)}.png\"\n",
    "    size = check_size(mri_50)\n",
    "    number = check_renumbering(f\"{input_path}/{p}\", patients.loc[row_index].Reorientation)\n",
    "    reorient = check_reorientation(mri_50, compare_path)\n",
    "\n",
    "    results[p] = {\"Size\": size, \"Number\": number, \"Orient\": reorient}\n",
    "    \n",
    "    # for b in b_levels:\n",
    "    #     pngs = os.listdir(f\"{b_path}/{b}\")\n",
    "    #     for i in pngs:\n",
    "    #         image_path = f\"{b_path}/{b}/{i}\"\n",
    "    #         if size:\n",
    "    #             resize_image(image_path, 320, 320, f\"{output_path}/{p}/MRI PNGs/{b}/{i}\")\n",
    "    #         # add reorientation\n",
    "    #         # add renumbering\n"
   ]
  },
  {
   "cell_type": "code",
   "execution_count": 29,
   "metadata": {},
   "outputs": [],
   "source": [
    "results_df = pd.DataFrame(results).T.reset_index().rename(columns={'index': 'Patient ID'})\n",
    "all_data = pd.merge(patients, results_df, on=\"Patient ID\")"
   ]
  },
  {
   "cell_type": "code",
   "execution_count": 30,
   "metadata": {},
   "outputs": [
    {
     "data": {
      "text/html": [
       "<div>\n",
       "<style scoped>\n",
       "    .dataframe tbody tr th:only-of-type {\n",
       "        vertical-align: middle;\n",
       "    }\n",
       "\n",
       "    .dataframe tbody tr th {\n",
       "        vertical-align: top;\n",
       "    }\n",
       "\n",
       "    .dataframe thead th {\n",
       "        text-align: right;\n",
       "    }\n",
       "</style>\n",
       "<table border=\"1\" class=\"dataframe\">\n",
       "  <thead>\n",
       "    <tr style=\"text-align: right;\">\n",
       "      <th></th>\n",
       "      <th>Patient ID</th>\n",
       "      <th>Renumber</th>\n",
       "      <th>Reorientation</th>\n",
       "      <th>Size</th>\n",
       "      <th>Number</th>\n",
       "      <th>Orient</th>\n",
       "    </tr>\n",
       "  </thead>\n",
       "  <tbody>\n",
       "    <tr>\n",
       "      <th>0</th>\n",
       "      <td>000129_2022-08-12</td>\n",
       "      <td>False</td>\n",
       "      <td>False</td>\n",
       "      <td>True</td>\n",
       "      <td>False</td>\n",
       "      <td>True</td>\n",
       "    </tr>\n",
       "    <tr>\n",
       "      <th>1</th>\n",
       "      <td>000133_2022-09-09</td>\n",
       "      <td>False</td>\n",
       "      <td>False</td>\n",
       "      <td>True</td>\n",
       "      <td>False</td>\n",
       "      <td>True</td>\n",
       "    </tr>\n",
       "    <tr>\n",
       "      <th>2</th>\n",
       "      <td>000133_2022-10-05_vol133</td>\n",
       "      <td>False</td>\n",
       "      <td>False</td>\n",
       "      <td>True</td>\n",
       "      <td>False</td>\n",
       "      <td>False</td>\n",
       "    </tr>\n",
       "    <tr>\n",
       "      <th>3</th>\n",
       "      <td>000165_2022-08-19</td>\n",
       "      <td>False</td>\n",
       "      <td>False</td>\n",
       "      <td>True</td>\n",
       "      <td>True</td>\n",
       "      <td>True</td>\n",
       "    </tr>\n",
       "    <tr>\n",
       "      <th>4</th>\n",
       "      <td>000198_2023-04-10_ARFIpatient2</td>\n",
       "      <td>False</td>\n",
       "      <td>False</td>\n",
       "      <td>True</td>\n",
       "      <td>False</td>\n",
       "      <td>False</td>\n",
       "    </tr>\n",
       "    <tr>\n",
       "      <th>...</th>\n",
       "      <td>...</td>\n",
       "      <td>...</td>\n",
       "      <td>...</td>\n",
       "      <td>...</td>\n",
       "      <td>...</td>\n",
       "      <td>...</td>\n",
       "    </tr>\n",
       "    <tr>\n",
       "      <th>57</th>\n",
       "      <td>Rachel_Duke_003</td>\n",
       "      <td>True</td>\n",
       "      <td>True</td>\n",
       "      <td>True</td>\n",
       "      <td>False</td>\n",
       "      <td>True</td>\n",
       "    </tr>\n",
       "    <tr>\n",
       "      <th>58</th>\n",
       "      <td>Rachel_Duke_015</td>\n",
       "      <td>False</td>\n",
       "      <td>False</td>\n",
       "      <td>True</td>\n",
       "      <td>False</td>\n",
       "      <td>False</td>\n",
       "    </tr>\n",
       "    <tr>\n",
       "      <th>59</th>\n",
       "      <td>Rachel_Duke_023</td>\n",
       "      <td>True</td>\n",
       "      <td>False</td>\n",
       "      <td>True</td>\n",
       "      <td>True</td>\n",
       "      <td>False</td>\n",
       "    </tr>\n",
       "    <tr>\n",
       "      <th>60</th>\n",
       "      <td>Rachel_Duke_052</td>\n",
       "      <td>True</td>\n",
       "      <td>False</td>\n",
       "      <td>True</td>\n",
       "      <td>True</td>\n",
       "      <td>False</td>\n",
       "    </tr>\n",
       "    <tr>\n",
       "      <th>61</th>\n",
       "      <td>Rachel_Duke_054</td>\n",
       "      <td>False</td>\n",
       "      <td>True</td>\n",
       "      <td>True</td>\n",
       "      <td>False</td>\n",
       "      <td>True</td>\n",
       "    </tr>\n",
       "  </tbody>\n",
       "</table>\n",
       "<p>62 rows × 6 columns</p>\n",
       "</div>"
      ],
      "text/plain": [
       "                        Patient ID  Renumber  Reorientation  Size  Number  \\\n",
       "0                000129_2022-08-12     False          False  True   False   \n",
       "1                000133_2022-09-09     False          False  True   False   \n",
       "2         000133_2022-10-05_vol133     False          False  True   False   \n",
       "3                000165_2022-08-19     False          False  True    True   \n",
       "4   000198_2023-04-10_ARFIpatient2     False          False  True   False   \n",
       "..                             ...       ...            ...   ...     ...   \n",
       "57                 Rachel_Duke_003      True           True  True   False   \n",
       "58                 Rachel_Duke_015     False          False  True   False   \n",
       "59                 Rachel_Duke_023      True          False  True    True   \n",
       "60                 Rachel_Duke_052      True          False  True    True   \n",
       "61                 Rachel_Duke_054     False           True  True   False   \n",
       "\n",
       "    Orient  \n",
       "0     True  \n",
       "1     True  \n",
       "2    False  \n",
       "3     True  \n",
       "4    False  \n",
       "..     ...  \n",
       "57    True  \n",
       "58   False  \n",
       "59   False  \n",
       "60   False  \n",
       "61    True  \n",
       "\n",
       "[62 rows x 6 columns]"
      ]
     },
     "execution_count": 30,
     "metadata": {},
     "output_type": "execute_result"
    }
   ],
   "source": [
    "all_data"
   ]
  },
  {
   "cell_type": "code",
   "execution_count": 31,
   "metadata": {},
   "outputs": [],
   "source": [
    "all_data.to_csv(\"preprocess_acc_check.csv\")"
   ]
  }
 ],
 "metadata": {
  "kernelspec": {
   "display_name": "Python 3",
   "language": "python",
   "name": "python3"
  },
  "language_info": {
   "codemirror_mode": {
    "name": "ipython",
    "version": 3
   },
   "file_extension": ".py",
   "mimetype": "text/x-python",
   "name": "python",
   "nbconvert_exporter": "python",
   "pygments_lexer": "ipython3",
   "version": "3.10.12"
  }
 },
 "nbformat": 4,
 "nbformat_minor": 2
}
