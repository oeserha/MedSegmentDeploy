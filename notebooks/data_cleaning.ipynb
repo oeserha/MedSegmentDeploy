{
 "cells": [
  {
   "cell_type": "markdown",
   "metadata": {},
   "source": [
    "# Data Cleaning"
   ]
  },
  {
   "cell_type": "markdown",
   "metadata": {},
   "source": [
    "Note: this is done with the given reorientation/renumbering to ensure data quality. See test_transformations.ipynb to see the code for automating the detection of reorientation/renumbering."
   ]
  },
  {
   "cell_type": "code",
   "execution_count": 1,
   "metadata": {},
   "outputs": [],
   "source": [
    "from PIL import Image\n",
    "import numpy as np\n",
    "import os\n",
    "import cv2\n",
    "import matplotlib.pyplot as plt\n",
    "import pandas as pd\n",
    "\n",
    "os.chdir(\"..\")\n",
    "\n",
    "import torch\n",
    "from torchvision import transforms\n",
    "from models import U2NETP\n",
    "import boto3\n",
    "import src.credentials as credentials\n",
    "import io"
   ]
  },
  {
   "cell_type": "code",
   "execution_count": 2,
   "metadata": {},
   "outputs": [],
   "source": [
    "patients = pd.read_csv(\"/home/ra-ugrad/Documents/Haleigh/MedSegmentDeploy/preprocessing.csv\")\n",
    "map_bool = {\"Yes\": True, \"No\": False}\n",
    "patients['Reorientation'] = patients.Reorientation.map(map_bool)\n",
    "patients['Renumber'] = patients.Renumber.map(map_bool)"
   ]
  },
  {
   "cell_type": "code",
   "execution_count": 3,
   "metadata": {},
   "outputs": [
    {
     "data": {
      "text/html": [
       "<div>\n",
       "<style scoped>\n",
       "    .dataframe tbody tr th:only-of-type {\n",
       "        vertical-align: middle;\n",
       "    }\n",
       "\n",
       "    .dataframe tbody tr th {\n",
       "        vertical-align: top;\n",
       "    }\n",
       "\n",
       "    .dataframe thead th {\n",
       "        text-align: right;\n",
       "    }\n",
       "</style>\n",
       "<table border=\"1\" class=\"dataframe\">\n",
       "  <thead>\n",
       "    <tr style=\"text-align: right;\">\n",
       "      <th></th>\n",
       "      <th>MRI/Patient ID</th>\n",
       "      <th>Number of Brightness Levels</th>\n",
       "      <th>Number of Slices</th>\n",
       "      <th>Brightness Level 1</th>\n",
       "      <th>Brightness Level 2</th>\n",
       "    </tr>\n",
       "  </thead>\n",
       "  <tbody>\n",
       "    <tr>\n",
       "      <th>0</th>\n",
       "      <td>ACRIN 6698_207837</td>\n",
       "      <td>2</td>\n",
       "      <td>320</td>\n",
       "      <td>5</td>\n",
       "      <td>6</td>\n",
       "    </tr>\n",
       "    <tr>\n",
       "      <th>1</th>\n",
       "      <td>ACRIN 6698_277831</td>\n",
       "      <td>2</td>\n",
       "      <td>480</td>\n",
       "      <td>6</td>\n",
       "      <td>7</td>\n",
       "    </tr>\n",
       "    <tr>\n",
       "      <th>2</th>\n",
       "      <td>Duke_062</td>\n",
       "      <td>2</td>\n",
       "      <td>492</td>\n",
       "      <td>1</td>\n",
       "      <td>2</td>\n",
       "    </tr>\n",
       "    <tr>\n",
       "      <th>3</th>\n",
       "      <td>Duke_077</td>\n",
       "      <td>2</td>\n",
       "      <td>522</td>\n",
       "      <td>2</td>\n",
       "      <td>3</td>\n",
       "    </tr>\n",
       "  </tbody>\n",
       "</table>\n",
       "</div>"
      ],
      "text/plain": [
       "      MRI/Patient ID  Number of Brightness Levels  Number of Slices  \\\n",
       "0  ACRIN 6698_207837                            2               320   \n",
       "1  ACRIN 6698_277831                            2               480   \n",
       "2           Duke_062                            2               492   \n",
       "3           Duke_077                            2               522   \n",
       "\n",
       "   Brightness Level 1  Brightness Level 2  \n",
       "0                   5                   6  \n",
       "1                   6                   7  \n",
       "2                   1                   2  \n",
       "3                   2                   3  "
      ]
     },
     "execution_count": 3,
     "metadata": {},
     "output_type": "execute_result"
    }
   ],
   "source": [
    "s3 = boto3.client('s3', aws_access_key_id=credentials.ACCESS_KEY, aws_secret_access_key=credentials.SECRET_KEY)\n",
    "\n",
    "response = s3.get_object(Bucket='raw-data-mris-segs', Key='seg_list_test.xlsx') \n",
    "data = response['Body'].read()\n",
    "patient_data = pd.read_excel(io.BytesIO(data))\n",
    "\n",
    "patient_data"
   ]
  },
  {
   "cell_type": "code",
   "execution_count": 4,
   "metadata": {},
   "outputs": [
    {
     "data": {
      "text/html": [
       "<div>\n",
       "<style scoped>\n",
       "    .dataframe tbody tr th:only-of-type {\n",
       "        vertical-align: middle;\n",
       "    }\n",
       "\n",
       "    .dataframe tbody tr th {\n",
       "        vertical-align: top;\n",
       "    }\n",
       "\n",
       "    .dataframe thead th {\n",
       "        text-align: right;\n",
       "    }\n",
       "</style>\n",
       "<table border=\"1\" class=\"dataframe\">\n",
       "  <thead>\n",
       "    <tr style=\"text-align: right;\">\n",
       "      <th></th>\n",
       "      <th>Patient ID</th>\n",
       "      <th>Renumber</th>\n",
       "      <th>Reorientation</th>\n",
       "    </tr>\n",
       "  </thead>\n",
       "  <tbody>\n",
       "    <tr>\n",
       "      <th>5</th>\n",
       "      <td>ACRIN 6698_207837</td>\n",
       "      <td>False</td>\n",
       "      <td>False</td>\n",
       "    </tr>\n",
       "    <tr>\n",
       "      <th>7</th>\n",
       "      <td>ACRIN 6698_277831</td>\n",
       "      <td>True</td>\n",
       "      <td>False</td>\n",
       "    </tr>\n",
       "    <tr>\n",
       "      <th>17</th>\n",
       "      <td>Duke_062</td>\n",
       "      <td>True</td>\n",
       "      <td>True</td>\n",
       "    </tr>\n",
       "    <tr>\n",
       "      <th>21</th>\n",
       "      <td>Duke_077</td>\n",
       "      <td>False</td>\n",
       "      <td>True</td>\n",
       "    </tr>\n",
       "  </tbody>\n",
       "</table>\n",
       "</div>"
      ],
      "text/plain": [
       "           Patient ID  Renumber  Reorientation\n",
       "5   ACRIN 6698_207837     False          False\n",
       "7   ACRIN 6698_277831      True          False\n",
       "17           Duke_062      True           True\n",
       "21           Duke_077     False           True"
      ]
     },
     "execution_count": 4,
     "metadata": {},
     "output_type": "execute_result"
    }
   ],
   "source": [
    "patients = patients[patients['Patient ID'].isin(patient_data['MRI/Patient ID'])]\n",
    "patients"
   ]
  },
  {
   "cell_type": "code",
   "execution_count": 5,
   "metadata": {},
   "outputs": [],
   "source": [
    "patients = patients[1:3]"
   ]
  },
  {
   "cell_type": "code",
   "execution_count": 6,
   "metadata": {},
   "outputs": [
    {
     "data": {
      "text/html": [
       "<div>\n",
       "<style scoped>\n",
       "    .dataframe tbody tr th:only-of-type {\n",
       "        vertical-align: middle;\n",
       "    }\n",
       "\n",
       "    .dataframe tbody tr th {\n",
       "        vertical-align: top;\n",
       "    }\n",
       "\n",
       "    .dataframe thead th {\n",
       "        text-align: right;\n",
       "    }\n",
       "</style>\n",
       "<table border=\"1\" class=\"dataframe\">\n",
       "  <thead>\n",
       "    <tr style=\"text-align: right;\">\n",
       "      <th></th>\n",
       "      <th>Patient ID</th>\n",
       "      <th>Renumber</th>\n",
       "      <th>Reorientation</th>\n",
       "    </tr>\n",
       "  </thead>\n",
       "  <tbody>\n",
       "    <tr>\n",
       "      <th>7</th>\n",
       "      <td>ACRIN 6698_277831</td>\n",
       "      <td>True</td>\n",
       "      <td>False</td>\n",
       "    </tr>\n",
       "    <tr>\n",
       "      <th>17</th>\n",
       "      <td>Duke_062</td>\n",
       "      <td>True</td>\n",
       "      <td>True</td>\n",
       "    </tr>\n",
       "  </tbody>\n",
       "</table>\n",
       "</div>"
      ],
      "text/plain": [
       "           Patient ID  Renumber  Reorientation\n",
       "7   ACRIN 6698_277831      True          False\n",
       "17           Duke_062      True           True"
      ]
     },
     "execution_count": 6,
     "metadata": {},
     "output_type": "execute_result"
    }
   ],
   "source": [
    "patients"
   ]
  },
  {
   "cell_type": "code",
   "execution_count": 8,
   "metadata": {},
   "outputs": [
    {
     "name": "stdout",
     "output_type": "stream",
     "text": [
      "480\n",
      "492\n"
     ]
    }
   ],
   "source": [
    "new_bucket = 'cleaned-mri-data'\n",
    "old_bucket = 'raw-data-mris-segs'\n",
    "for patient in patients['Patient ID']:\n",
    "    row = patients[patients['Patient ID'] == patient]\n",
    "    renum = row.Renumber.item()\n",
    "    reorient = row.Reorientation.item()\n",
    "    slices = patient_data[patient_data['MRI/Patient ID'] == patient]['Number of Slices'].item()\n",
    "    level_1 = patient_data[patient_data['MRI/Patient ID'] == patient]['Brightness Level 1'].item()\n",
    "    level_2 = patient_data[patient_data['MRI/Patient ID'] == patient]['Brightness Level 2'].item()\n",
    "    levels = [level_1, level_2]\n",
    "    print(slices)\n",
    "    for i in range(1, slices+1):\n",
    "        img_num = str(i).zfill(5)\n",
    "        for n, b in enumerate(levels):\n",
    "            # get image\n",
    "            old_key = f\"MRIs/{patient}/MRI PNGs/Brightness level {b}/png_{img_num}.png\"\n",
    "            response = s3.get_object(Bucket=old_bucket, Key=old_key)\n",
    "            image_data = response['Body'].read()\n",
    "            img = Image.open(io.BytesIO(image_data))\n",
    "\n",
    "            # perform operations as needed\n",
    "            if reorient:\n",
    "                modified = cv2.rotate(np.array(img), cv2.ROTATE_180)\n",
    "                success, modified = cv2.imencode('.png', modified)\n",
    "            else:\n",
    "                success, modified = cv2.imencode('.png', np.array(img))\n",
    "            \n",
    "            if renum:\n",
    "                new_num = slices - (i-1)\n",
    "                new_img_num = str(new_num).zfill(5)\n",
    "                new_key = f\"MRIs/{patient}/MRI PNGs/Brightness level {n+1}/png_{new_img_num}.png\"\n",
    "            else:\n",
    "                new_key = f\"MRIs/{patient}/MRI PNGs/Brightness level {n+1}/png_{img_num}.png\"\n",
    "\n",
    "            # save image to new location\n",
    "            buffer = io.BytesIO(modified.tobytes())\n",
    "            s3.upload_fileobj(buffer, new_bucket, new_key, ExtraArgs={'ContentType': 'image/png'})\n",
    "\n",
    "            # save segmentation to new location\n",
    "            seg_key = f\"MRIs/{patient}/Seg PNGs/segpng_{img_num}.png\"\n",
    "            response = s3.get_object(Bucket=old_bucket, Key=seg_key)\n",
    "            seg_data = response['Body'].read()\n",
    "            seg = Image.open(io.BytesIO(seg_data))\n",
    "            buffer = io.BytesIO()\n",
    "            seg.save(buffer, format='PNG')\n",
    "            buffer.seek(0)\n",
    "            s3.upload_fileobj(buffer, new_bucket, seg_key)"
   ]
  }
 ],
 "metadata": {
  "kernelspec": {
   "display_name": "base",
   "language": "python",
   "name": "python3"
  },
  "language_info": {
   "codemirror_mode": {
    "name": "ipython",
    "version": 3
   },
   "file_extension": ".py",
   "mimetype": "text/x-python",
   "name": "python",
   "nbconvert_exporter": "python",
   "pygments_lexer": "ipython3",
   "version": "3.12.7"
  }
 },
 "nbformat": 4,
 "nbformat_minor": 2
}
