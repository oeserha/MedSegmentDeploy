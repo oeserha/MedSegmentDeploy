{
 "cells": [
  {
   "cell_type": "code",
   "execution_count": 5,
   "metadata": {},
   "outputs": [],
   "source": [
    "import matplotlib.pyplot as plt\n",
    "import cv2\n",
    "import os\n",
    "from PIL import Image\n",
    "import pandas as pd\n"
   ]
  },
  {
   "cell_type": "code",
   "execution_count": 27,
   "metadata": {},
   "outputs": [],
   "source": [
    "all_mri_path = \"/home/ra-ugrad/Documents/Haleigh/img_transforms.csv\"\n",
    "mris = pd.read_csv(all_mri_path)\n",
    "\n",
    "\n",
    "mris['new_count'] = False\n",
    "mris['new_count'] = mris['new_count'].where(mris['Renumber'] == 'No', True)"
   ]
  },
  {
   "cell_type": "code",
   "execution_count": 28,
   "metadata": {},
   "outputs": [],
   "source": [
    "mris['rotate'] = False\n",
    "mris['rotate'] = mris['rotate'].where(mris['Reorient'] != 'no', False)"
   ]
  },
  {
   "cell_type": "code",
   "execution_count": null,
   "metadata": {},
   "outputs": [
    {
     "data": {
      "text/html": [
       "<div>\n",
       "<style scoped>\n",
       "    .dataframe tbody tr th:only-of-type {\n",
       "        vertical-align: middle;\n",
       "    }\n",
       "\n",
       "    .dataframe tbody tr th {\n",
       "        vertical-align: top;\n",
       "    }\n",
       "\n",
       "    .dataframe thead th {\n",
       "        text-align: right;\n",
       "    }\n",
       "</style>\n",
       "<table border=\"1\" class=\"dataframe\">\n",
       "  <thead>\n",
       "    <tr style=\"text-align: right;\">\n",
       "      <th></th>\n",
       "      <th>Segmentation ID</th>\n",
       "      <th>Renumber</th>\n",
       "      <th>Reorient</th>\n",
       "      <th>new_count</th>\n",
       "      <th>rotate</th>\n",
       "    </tr>\n",
       "  </thead>\n",
       "  <tbody>\n",
       "    <tr>\n",
       "      <th>37</th>\n",
       "      <td>Duke_319</td>\n",
       "      <td>Yes</td>\n",
       "      <td>Yes</td>\n",
       "      <td>True</td>\n",
       "      <td>False</td>\n",
       "    </tr>\n",
       "  </tbody>\n",
       "</table>\n",
       "</div>"
      ],
      "text/plain": [
       "   Segmentation ID Renumber Reorient  new_count  rotate\n",
       "37        Duke_319      Yes      Yes       True   False"
      ]
     },
     "execution_count": 30,
     "metadata": {},
     "output_type": "execute_result"
    }
   ],
   "source": []
  },
  {
   "cell_type": "code",
   "execution_count": 31,
   "metadata": {},
   "outputs": [],
   "source": [
    "row = mris.loc[37]\n",
    "rotate = row['rotate']\n",
    "new_count = row['new_count']\n",
    "patient = row['Segmentation ID']\n",
    "\n",
    "mri_path = f'/home/ra-ugrad/Documents/Segmentations/{patient}/MRI PNGs'\n",
    "b_levels = os.listdir(mri_path)\n",
    "if '.DS_Store' in b_levels:\n",
    "    b_levels.remove('.DS_Store')"
   ]
  },
  {
   "cell_type": "code",
   "execution_count": 32,
   "metadata": {},
   "outputs": [],
   "source": [
    "b = b_levels[0]\n",
    "b_path = f'/home/ra-ugrad/Documents/Segmentations/{patient}/MRI PNGs/{b}'\n",
    "count = len(os.listdir(b_path))"
   ]
  },
  {
   "cell_type": "code",
   "execution_count": 16,
   "metadata": {},
   "outputs": [],
   "source": [
    "new_imgs_dir = os.makedirs(f\"/home/ra-ugrad/Documents/Segmentations/{patient}/MRI PNGs/{b}/NEW\")"
   ]
  },
  {
   "cell_type": "code",
   "execution_count": 29,
   "metadata": {},
   "outputs": [],
   "source": [
    "mris = mris[mris['Segmentation ID'] == \"Duke_319\"]"
   ]
  },
  {
   "cell_type": "code",
   "execution_count": null,
   "metadata": {},
   "outputs": [],
   "source": [
    "for i in range(count):\n",
    "    image_num = str(i+1).zfill(5)\n",
    "    image_path = f'/home/ra-ugrad/Documents/Segmentations/{patient}/MRI PNGs/{b}/png_{image_num}.png'\n",
    "    img = cv2.imread(image_path)\n",
    "    if rotate:\n",
    "        modified = cv2.rotate(img, cv2.ROTATE_180)\n",
    "    else:\n",
    "        modified = img\n",
    "    if new_count:\n",
    "        new_num = count - i\n",
    "        new_img_num = str(new_num).zfill(5)\n",
    "        new_image_path = f'/home/ra-ugrad/Documents/Segmentations/{patient}/MRI PNGs/{b}/NEW/png_{new_img_num}.png'\n",
    "        cv2.imwrite(new_image_path, modified)\n",
    "    else:\n",
    "        print(\"NO\")\n",
    "        new_image_path = f'/home/ra-ugrad/Documents/Segmentations/{patient}/MRI PNGs/{b}/NEW/png_{image_num}.png'\n",
    "        cv2.imwrite(new_image_path, modified)"
   ]
  },
  {
   "cell_type": "code",
   "execution_count": 99,
   "metadata": {},
   "outputs": [
    {
     "data": {
      "text/plain": [
       "Segmentation ID    Duke_094\n",
       "Renumber                Yes\n",
       "Reorient                 no\n",
       "rotate                False\n",
       "new_count              True\n",
       "Name: 15, dtype: object"
      ]
     },
     "execution_count": 99,
     "metadata": {},
     "output_type": "execute_result"
    }
   ],
   "source": [
    "mris.loc[15]"
   ]
  },
  {
   "cell_type": "code",
   "execution_count": 35,
   "metadata": {},
   "outputs": [
    {
     "data": {
      "text/plain": [
       "False"
      ]
     },
     "execution_count": 35,
     "metadata": {},
     "output_type": "execute_result"
    }
   ],
   "source": [
    "rotate"
   ]
  },
  {
   "cell_type": "code",
   "execution_count": 37,
   "metadata": {},
   "outputs": [],
   "source": [
    "\n",
    "rotate = True\n",
    "new_count = row['new_count']\n",
    "patient = row['Segmentation ID']\n",
    "\n",
    "mri_path = f'/home/ra-ugrad/Documents/Segmentations/{patient}/MRI PNGs'\n",
    "b_levels = os.listdir(mri_path)\n",
    "if '.DS_Store' in b_levels:\n",
    "    b_levels.remove('.DS_Store')\n",
    "\n",
    "for b in b_levels:\n",
    "    b_path = f'/home/ra-ugrad/Documents/Segmentations/{patient}/MRI PNGs/{b}'\n",
    "    imgs_b = os.listdir(b_path)\n",
    "    if '.DS_Store' in imgs_b:\n",
    "        imgs_b.remove('.DS_Store')\n",
    "    new_imgs_dir = os.makedirs(f\"/home/ra-ugrad/Documents/Segmentations/{patient}/MRI PNGs/NEW {b}\")\n",
    "    for i in range(count):\n",
    "        image_num = str(i+1).zfill(5)\n",
    "        image_path = f'/home/ra-ugrad/Documents/Segmentations/{patient}/MRI PNGs/{b}/png_{image_num}.png'\n",
    "        img = cv2.imread(image_path)\n",
    "        if rotate:\n",
    "            modified = cv2.rotate(img, cv2.ROTATE_180)\n",
    "        else:\n",
    "            modified = img\n",
    "        if new_count:\n",
    "            new_num = count - (i)\n",
    "            new_img_num = str(new_num).zfill(5)\n",
    "            new_image_path = f'/home/ra-ugrad/Documents/Segmentations/{patient}/MRI PNGs/NEW {b}/png_{new_img_num}.png'\n",
    "            cv2.imwrite(new_image_path, modified)\n",
    "        else:\n",
    "            new_image_path = f'/home/ra-ugrad/Documents/Segmentations/{patient}/MRI PNGs/NEW {b}/png_{image_num}.png'\n",
    "            cv2.imwrite(new_image_path, modified)"
   ]
  },
  {
   "cell_type": "code",
   "execution_count": 92,
   "metadata": {},
   "outputs": [
    {
     "data": {
      "text/plain": [
       "'/home/ra-ugrad/Documents/Segmentations/Duke_328/MRI PNGs/Brightness level 3/png_00275.png'"
      ]
     },
     "execution_count": 92,
     "metadata": {},
     "output_type": "execute_result"
    }
   ],
   "source": [
    "image_path"
   ]
  }
 ],
 "metadata": {
  "kernelspec": {
   "display_name": "base",
   "language": "python",
   "name": "python3"
  },
  "language_info": {
   "codemirror_mode": {
    "name": "ipython",
    "version": 3
   },
   "file_extension": ".py",
   "mimetype": "text/x-python",
   "name": "python",
   "nbconvert_exporter": "python",
   "pygments_lexer": "ipython3",
   "version": "3.12.7"
  }
 },
 "nbformat": 4,
 "nbformat_minor": 2
}
