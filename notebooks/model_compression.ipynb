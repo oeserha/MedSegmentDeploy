{
 "cells": [
  {
   "cell_type": "markdown",
   "id": "4487ca31-dda0-48ab-836e-a93ff776c485",
   "metadata": {},
   "source": [
    "# Model Compression Exploration"
   ]
  },
  {
   "cell_type": "code",
   "execution_count": null,
   "id": "e04f78d2-124e-48cc-839c-0c00ffa2c192",
   "metadata": {},
   "outputs": [],
   "source": []
  }
 ],
 "metadata": {
  "kernelspec": {
   "display_name": "Python 3 (ipykernel)",
   "language": "python",
   "name": "python3"
  },
  "language_info": {
   "codemirror_mode": {
    "name": "ipython",
    "version": 3
   },
   "file_extension": ".py",
   "mimetype": "text/x-python",
   "name": "python",
   "nbconvert_exporter": "python",
   "pygments_lexer": "ipython3",
   "version": "3.12.9"
  }
 },
 "nbformat": 4,
 "nbformat_minor": 5
}
